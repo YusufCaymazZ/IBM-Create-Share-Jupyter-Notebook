{
 "cells": [
  {
   "cell_type": "markdown",
   "id": "6a07b258-7542-4208-bf7f-a027dbf1ff94",
   "metadata": {},
   "source": [
    "# Data Science Tools and Ecosystem"
   ]
  },
  {
   "cell_type": "markdown",
   "id": "ad23ca5c-55ac-4734-9a3e-f9867f4910ab",
   "metadata": {},
   "source": [
    "In this notebook, Data Science Tools and Ecosystem are summarized."
   ]
  },
  {
   "cell_type": "markdown",
   "id": "3ee62d59-2a48-424a-b72f-11127cf4ed09",
   "metadata": {},
   "source": [
    "Some of the popular languages that Data Scientists use are:\n",
    " 1. Python\n",
    " 2. R\n",
    " 3. Scala"
   ]
  },
  {
   "cell_type": "markdown",
   "id": "7c87b40b-5575-4103-bd66-3eccc3eeecbd",
   "metadata": {},
   "source": [
    "Some of the commonly used libraries used by Data Scientists include:\n",
    " 1. Pandas (python)\n",
    " 2. Numpy (python)\n",
    " 3.  ggplot(R)\n",
    " "
   ]
  },
  {
   "cell_type": "markdown",
   "id": "f1ee74e7-4b4b-430e-b0b7-809e7e50f760",
   "metadata": {},
   "source": [
    "| Data Science Tools    |\n",
    "|-----------------------|\n",
    "| Jupyter Notebook       |\n",
    "| RStudio                |\n",
    "| Apache Zeppelin        |"
   ]
  },
  {
   "cell_type": "code",
   "execution_count": null,
   "id": "3e9806b6-3c91-43b3-8753-86c8bc08b02b",
   "metadata": {},
   "outputs": [],
   "source": []
  },
  {
   "cell_type": "markdown",
   "id": "9dcac4ec-93f8-42ee-8d2c-fa33f74679da",
   "metadata": {},
   "source": [
    "### Below are a few examples of evaluating arithmetic expressions in Python.\r\n"
   ]
  },
  {
   "cell_type": "code",
   "execution_count": 2,
   "id": "59b2d05c-e74e-4693-adac-448fa2a2fb41",
   "metadata": {},
   "outputs": [
    {
     "data": {
      "text/plain": [
       "17"
      ]
     },
     "execution_count": 2,
     "metadata": {},
     "output_type": "execute_result"
    }
   ],
   "source": [
    "#This a simple arithmetic expression to mutiply then add integers\n",
    "(3*4)+5"
   ]
  },
  {
   "cell_type": "code",
   "execution_count": 4,
   "id": "bed55ecb-1493-46f7-b619-54c813a3028c",
   "metadata": {},
   "outputs": [
    {
     "data": {
      "text/plain": [
       "3.3333333333333335"
      ]
     },
     "execution_count": 4,
     "metadata": {},
     "output_type": "execute_result"
    }
   ],
   "source": [
    "#This will convert 200 minutes to hours by diving by 60\n",
    "minutes = 200\n",
    "one_hour = 60\n",
    "result = minutes/one_hour\n",
    "result"
   ]
  },
  {
   "cell_type": "markdown",
   "id": "edc31bcd-6c92-4fb7-9874-3919dcb8264f",
   "metadata": {},
   "source": [
    "**Objectives:**\n",
    "\n",
    "- List popular languages for Data Science\n",
    "- Understand key libraries used in Data Science\n",
    "- Explore common development environments for Data Science\n",
    "- Learn basic Data Science tools and techniques\n",
    "- Evaluate arithmetic expressions in Python\n"
   ]
  },
  {
   "cell_type": "markdown",
   "id": "aafc3bd1-286b-40ac-afc2-7d2d2881917b",
   "metadata": {},
   "source": [
    "## Author\r\n",
    "\r\n",
    "Yusuf Caymaz\r\n"
   ]
  },
  {
   "cell_type": "code",
   "execution_count": null,
   "id": "82f190f9-170d-412b-86fd-05265c42d9a8",
   "metadata": {},
   "outputs": [],
   "source": []
  }
 ],
 "metadata": {
  "kernelspec": {
   "display_name": "Python 3 (ipykernel)",
   "language": "python",
   "name": "python3"
  },
  "language_info": {
   "codemirror_mode": {
    "name": "ipython",
    "version": 3
   },
   "file_extension": ".py",
   "mimetype": "text/x-python",
   "name": "python",
   "nbconvert_exporter": "python",
   "pygments_lexer": "ipython3",
   "version": "3.10.14"
  }
 },
 "nbformat": 4,
 "nbformat_minor": 5
}
